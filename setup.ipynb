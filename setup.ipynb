{
 "cells": [
  {
   "cell_type": "code",
   "execution_count": 1,
   "id": "initial_id",
   "metadata": {
    "collapsed": true,
    "ExecuteTime": {
     "end_time": "2025-08-02T06:54:48.989399Z",
     "start_time": "2025-08-02T06:54:47.721244Z"
    }
   },
   "outputs": [
    {
     "name": "stdout",
     "output_type": "stream",
     "text": [
      "✅ Python: /Users/michaelpoppel/PycharmProjects/ConstraintDrivenQAOA/venv/bin/python\n",
      "✅ Qiskit version: 2.1.1\n",
      "Testing RXX gate...\n",
      "     ┌───────────┐\n",
      "q_0: ┤0          ├\n",
      "     │  Rxx(π/4) │\n",
      "q_1: ┤1          ├\n",
      "     └───────────┘\n",
      "Testing RYY gate...\n",
      "     ┌───────────┐\n",
      "q_0: ┤0          ├\n",
      "     │  Ryy(π/4) │\n",
      "q_1: ┤1          ├\n",
      "     └───────────┘\n",
      "🎉 All tests passed! Ready to create circuit diagrams.\n"
     ]
    }
   ],
   "source": [
    "\"\"\"Test that everything is working correctly\"\"\"\n",
    "import sys\n",
    "print(f\"✅ Python: {sys.executable}\")\n",
    "\n",
    "import qiskit\n",
    "print(f\"✅ Qiskit version: {qiskit.__version__}\")\n",
    "\n",
    "from qiskit import QuantumCircuit\n",
    "import numpy as np\n",
    "import matplotlib.pyplot as plt\n",
    "\n",
    "# Test RXX gate\n",
    "print(\"Testing RXX gate...\")\n",
    "qc_rxx = QuantumCircuit(2)\n",
    "qc_rxx.rxx(np.pi/4, 0, 1)\n",
    "print(qc_rxx.draw())\n",
    "\n",
    "# Test RYY gate\n",
    "print(\"Testing RYY gate...\")\n",
    "qc_ryy = QuantumCircuit(2)\n",
    "qc_ryy.ryy(np.pi/4, 0, 1)\n",
    "print(qc_ryy.draw())\n",
    "\n",
    "print(\"🎉 All tests passed! Ready to create circuit diagrams.\")"
   ]
  },
  {
   "cell_type": "code",
   "execution_count": null,
   "outputs": [],
   "source": [],
   "metadata": {
    "collapsed": false
   },
   "id": "be9e197ca41e0d29"
  }
 ],
 "metadata": {
  "kernelspec": {
   "display_name": "Python 3",
   "language": "python",
   "name": "python3"
  },
  "language_info": {
   "codemirror_mode": {
    "name": "ipython",
    "version": 2
   },
   "file_extension": ".py",
   "mimetype": "text/x-python",
   "name": "python",
   "nbconvert_exporter": "python",
   "pygments_lexer": "ipython2",
   "version": "2.7.6"
  }
 },
 "nbformat": 4,
 "nbformat_minor": 5
}
