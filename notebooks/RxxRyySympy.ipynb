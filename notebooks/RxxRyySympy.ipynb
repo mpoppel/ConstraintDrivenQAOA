{
 "cells": [
  {
   "cell_type": "code",
   "execution_count": 2,
   "id": "initial_id",
   "metadata": {
    "collapsed": true,
    "ExecuteTime": {
     "end_time": "2025-08-07T10:42:11.690993Z",
     "start_time": "2025-08-07T10:42:10.797617Z"
    }
   },
   "outputs": [
    {
     "name": "stdout",
     "output_type": "stream",
     "text": [
      "Pauli Matrices:\n",
      "X = Matrix([[0, 1], [1, 0]])\n",
      "Y = Matrix([[0, -I], [I, 0]])\n",
      "I = Matrix([[1, 0], [0, 1]])\n",
      "\n",
      "==================================================\n",
      "Using sympy.physics.quantum.TensorProduct\n",
      "1. X⊗X⊗I + Y⊗Y⊗I:\n",
      "Matrix([[0, 0, 0, 0, 0, 0, 0, 0], [0, 0, 0, 0, 0, 0, 0, 0], [0, 0, 0, 0, 2, 0, 0, 0], [0, 0, 0, 0, 0, 2, 0, 0], [0, 0, 2, 0, 0, 0, 0, 0], [0, 0, 0, 2, 0, 0, 0, 0], [0, 0, 0, 0, 0, 0, 0, 0], [0, 0, 0, 0, 0, 0, 0, 0]])\n",
      "Shape: (8, 8)\n",
      "\n",
      "------------------------------\n",
      "\n",
      "2. I⊗X⊗X + I⊗Y⊗Y:\n",
      "Matrix([[0, 0, 0, 0, 0, 0, 0, 0], [0, 0, 2, 0, 0, 0, 0, 0], [0, 2, 0, 0, 0, 0, 0, 0], [0, 0, 0, 0, 0, 0, 0, 0], [0, 0, 0, 0, 0, 0, 0, 0], [0, 0, 0, 0, 0, 0, 2, 0], [0, 0, 0, 0, 0, 2, 0, 0], [0, 0, 0, 0, 0, 0, 0, 0]])\n",
      "Shape: (8, 8)\n",
      "\n",
      "------------------------------\n",
      "\n",
      "3. X⊗I⊗X + Y⊗I⊗Y:\n",
      "Matrix([[0, 0, 0, 0, 0, 0, 0, 0], [0, 0, 0, 0, 2, 0, 0, 0], [0, 0, 0, 0, 0, 0, 0, 0], [0, 0, 0, 0, 0, 0, 2, 0], [0, 2, 0, 0, 0, 0, 0, 0], [0, 0, 0, 0, 0, 0, 0, 0], [0, 0, 0, 2, 0, 0, 0, 0], [0, 0, 0, 0, 0, 0, 0, 0]])\n",
      "Shape: (8, 8)\n",
      "\n",
      "==================================================\n",
      "\n",
      "Example operations:\n",
      "Eigenvalues of first tensor product:\n",
      "Eigenvalues: [0, -2, 2]\n",
      "\n",
      "Trace of each tensor:\n",
      "Trace of tensor1: 0\n",
      "Trace of tensor2: 0\n",
      "Trace of tensor3: 0\n"
     ]
    }
   ],
   "source": [
    "import sympy as sp\n",
    "from sympy import Matrix, I as sympy_I\n",
    "\n",
    "# Define Pauli matrices\n",
    "X = Matrix([[0, 1], [1, 0]])  # Pauli-X\n",
    "Y = Matrix([[0, -sympy_I], [sympy_I, 0]])  # Pauli-Y  \n",
    "I = Matrix([[1, 0], [0, 1]])  # Identity\n",
    "\n",
    "print(\"Pauli Matrices:\")\n",
    "print(\"X =\", X)\n",
    "print(\"Y =\", Y) \n",
    "print(\"I =\", I)\n",
    "print(\"\\n\" + \"=\"*50 + \"\\n\")\n",
    "\n",
    "# Method 1: Try using TensorProduct from quantum physics\n",
    "try:\n",
    "    from sympy.physics.quantum import TensorProduct\n",
    "    print(\"Using sympy.physics.quantum.TensorProduct\")\n",
    "    \n",
    "    # First tensor product: X⊗X⊗I + Y⊗Y⊗I\n",
    "    tensor1 = TensorProduct(X, X, I) + TensorProduct(Y, Y, I)\n",
    "    tensor2 = TensorProduct(I, X, X) + TensorProduct(I, Y, Y)\n",
    "    tensor3 = TensorProduct(X, I, X) + TensorProduct(Y, I, Y)\n",
    "    \n",
    "except ImportError:\n",
    "    # Method 2: Try using kronecker_product\n",
    "    try:\n",
    "        from sympy import kronecker_product\n",
    "        print(\"Using sympy.kronecker_product\")\n",
    "        \n",
    "        def tensor_product_3(A, B, C):\n",
    "            \"\"\"Compute A ⊗ B ⊗ C using Kronecker product\"\"\"\n",
    "            return kronecker_product(kronecker_product(A, B), C)\n",
    "        \n",
    "        tensor1 = tensor_product_3(X, X, I) + tensor_product_3(Y, Y, I)\n",
    "        tensor2 = tensor_product_3(I, X, X) + tensor_product_3(I, Y, Y)\n",
    "        tensor3 = tensor_product_3(X, I, X) + tensor_product_3(Y, I, Y)\n",
    "        \n",
    "    except ImportError:\n",
    "        # Method 3: Manual implementation using matrix operations\n",
    "        print(\"Using manual tensor product implementation\")\n",
    "        \n",
    "        def manual_tensor_product(A, B):\n",
    "            \"\"\"Manual tensor product implementation\"\"\"\n",
    "            rows_A, cols_A = A.rows, A.cols\n",
    "            rows_B, cols_B = B.rows, B.cols\n",
    "            \n",
    "            result = Matrix.zeros(rows_A * rows_B, cols_A * cols_B)\n",
    "            \n",
    "            for i in range(rows_A):\n",
    "                for j in range(cols_A):\n",
    "                    for k in range(rows_B):\n",
    "                        for l in range(cols_B):\n",
    "                            result[i*rows_B + k, j*cols_B + l] = A[i,j] * B[k,l]\n",
    "            return result\n",
    "        \n",
    "        def tensor_product_3_manual(A, B, C):\n",
    "            \"\"\"Three-way tensor product\"\"\"\n",
    "            return manual_tensor_product(manual_tensor_product(A, B), C)\n",
    "        \n",
    "        tensor1 = tensor_product_3_manual(X, X, I) + tensor_product_3_manual(Y, Y, I)\n",
    "        tensor2 = tensor_product_3_manual(I, X, X) + tensor_product_3_manual(I, Y, Y)\n",
    "        tensor3 = tensor_product_3_manual(X, I, X) + tensor_product_3_manual(Y, I, Y)\n",
    "\n",
    "# Display results\n",
    "print(\"1. X⊗X⊗I + Y⊗Y⊗I:\")\n",
    "print(tensor1)\n",
    "print(f\"Shape: {tensor1.shape}\")\n",
    "print(\"\\n\" + \"-\"*30 + \"\\n\")\n",
    "\n",
    "print(\"2. I⊗X⊗X + I⊗Y⊗Y:\")\n",
    "print(tensor2)  \n",
    "print(f\"Shape: {tensor2.shape}\")\n",
    "print(\"\\n\" + \"-\"*30 + \"\\n\")\n",
    "\n",
    "print(\"3. X⊗I⊗X + Y⊗I⊗Y:\")\n",
    "print(tensor3)\n",
    "print(f\"Shape: {tensor3.shape}\")\n",
    "print(\"\\n\" + \"=\"*50 + \"\\n\")\n",
    "\n",
    "# Additional operations\n",
    "print(\"Example operations:\")\n",
    "print(\"Eigenvalues of first tensor product:\")\n",
    "eigenvals1 = tensor1.eigenvals()\n",
    "print(\"Eigenvalues:\", list(eigenvals1.keys()))\n",
    "\n",
    "print(\"\\nTrace of each tensor:\")\n",
    "print(f\"Trace of tensor1: {tensor1.trace()}\")\n",
    "print(f\"Trace of tensor2: {tensor2.trace()}\")  \n",
    "print(f\"Trace of tensor3: {tensor3.trace()}\")"
   ]
  },
  {
   "cell_type": "code",
   "execution_count": 3,
   "outputs": [
    {
     "name": "stdout",
     "output_type": "stream",
     "text": [
      "⎡0  0  0  0  0  0  0  0⎤\n",
      "⎢                      ⎥\n",
      "⎢0  0  2  0  2  0  0  0⎥\n",
      "⎢                      ⎥\n",
      "⎢0  2  0  0  2  0  0  0⎥\n",
      "⎢                      ⎥\n",
      "⎢0  0  0  0  0  2  2  0⎥\n",
      "⎢                      ⎥\n",
      "⎢0  2  2  0  0  0  0  0⎥\n",
      "⎢                      ⎥\n",
      "⎢0  0  0  2  0  0  2  0⎥\n",
      "⎢                      ⎥\n",
      "⎢0  0  0  2  0  2  0  0⎥\n",
      "⎢                      ⎥\n",
      "⎣0  0  0  0  0  0  0  0⎦\n"
     ]
    }
   ],
   "source": [
    "sp.pprint(tensor1+tensor2+tensor3)"
   ],
   "metadata": {
    "collapsed": false,
    "ExecuteTime": {
     "end_time": "2025-08-07T10:42:43.578170Z",
     "start_time": "2025-08-07T10:42:43.560054Z"
    }
   },
   "id": "f47aa68e1aac1f42"
  },
  {
   "cell_type": "code",
   "execution_count": null,
   "outputs": [],
   "source": [],
   "metadata": {
    "collapsed": false
   },
   "id": "cb23964fadf6cd78"
  }
 ],
 "metadata": {
  "kernelspec": {
   "display_name": "Python 3",
   "language": "python",
   "name": "python3"
  },
  "language_info": {
   "codemirror_mode": {
    "name": "ipython",
    "version": 2
   },
   "file_extension": ".py",
   "mimetype": "text/x-python",
   "name": "python",
   "nbconvert_exporter": "python",
   "pygments_lexer": "ipython2",
   "version": "2.7.6"
  }
 },
 "nbformat": 4,
 "nbformat_minor": 5
}
